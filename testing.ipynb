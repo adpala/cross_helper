{
 "cells": [
  {
   "cell_type": "code",
   "execution_count": 63,
   "metadata": {},
   "outputs": [],
   "source": [
    "import pandas as pd\n",
    "import itertools\n",
    "import networkx as nx\n",
    "import matplotlib.pyplot as plt\n",
    "import numpy as np\n",
    "import pydot\n",
    "from networkx.drawing.nx_pydot import graphviz_layout\n",
    "from matplotlib.patches import FancyBboxPatch, BoxStyle\n",
    "\n",
    "def explicit_homozygous(genotype):\n",
    "    # requires genotype to be a list of lists, with 1 or 2 elements each.\n",
    "    return [chromosome*2 if len(chromosome)==1 else chromosome for chromosome in genotype]\n",
    "\n",
    "def simplify_homozygous(genotype):\n",
    "    return [[chromosome[0]] if chromosome[0]==chromosome[1] else chromosome for chromosome in genotype]\n",
    "\n",
    "def str_to_chromosomes(genotype_str):\n",
    "    # string genotype with ;; notation into chromosomes list\n",
    "    # also will add + for wildtype, assume chr2 if not written, and duplicate allele if only one is written\n",
    "    genotype = [chr.strip() for chr in genotype_str.split(';')]\n",
    "    if len(genotype) < 3:\n",
    "        genotype = ['+/+'] + genotype\n",
    "    genotype = ['+/+' if chromosome == '' else chromosome for chromosome in genotype]\n",
    "    genotype = [chromosome.split('/') for chromosome in genotype]\n",
    "    genotype = explicit_homozygous(genotype)\n",
    "    return genotype\n",
    "\n",
    "def chromosomes_to_string(chromosome_list):\n",
    "    return ' ; '.join(['/'.join(chromosome) for chromosome in chromosome_list])\n",
    "\n",
    "def fix_genotype_notation(genotype):\n",
    "    return chromosomes_to_string(str_to_chromosomes(genotype))\n",
    "\n",
    "def get_unique_progeny_chromosome_pool(fly1, fly2):\n",
    "    progeny_chromosome_pool_list = []\n",
    "    for ichr in range(3):\n",
    "        all_sorted_alleles = [tuple(sorted(x)) for x in itertools.product(fly1[ichr],fly2[ichr])]\n",
    "        all_setted_alleles = [list(x) for x in set(all_sorted_alleles)]\n",
    "        progeny_chromosome_pool_list.append(all_setted_alleles)\n",
    "    return progeny_chromosome_pool_list\n",
    "\n",
    "def clean_lethals_from_pool(progeny_chromosome_pool, balancers_table):\n",
    "    return [[alleles for alleles in chromosome_list if not ((alleles[0]==alleles[1]) and (alleles[0] in balancers_table.label.tolist()))] for chromosome_list in progeny_chromosome_pool]\n",
    "        \n",
    "def get_progeny(fly1,fly2,balancers_table=None):\n",
    "\n",
    "    if type(fly1) == str:\n",
    "        fly1=str_to_chromosomes(fly1)\n",
    "    if type(fly2) == str:\n",
    "        fly2=str_to_chromosomes(fly2)\n",
    "\n",
    "    progeny_chromosome_pool = get_unique_progeny_chromosome_pool(fly1, fly2)\n",
    "    progeny_chromosome_pool = clean_lethals_from_pool(progeny_chromosome_pool, balancers_table)\n",
    "\n",
    "    # get all possible products of cross, ignore duplicates (but not considering change of order)\n",
    "    # possible_chromosomes = [set([sorted(x) for x in itertools.product(fly1[ichr],fly2[ichr])]) for ichr in range(3)]\n",
    "    # print(possible_chromosomes)\n",
    "    # possible_chromosomes = [[alleles for alleles in chromosome_list if not ((alleles[0]==alleles[1]) and (alleles[0] in balancers_table.label.tolist()))] for chromosome_list in possible_chromosomes]\n",
    "    # print(possible_chromosomes)\n",
    "    possible_progeny = [z for z in itertools.product(*progeny_chromosome_pool)]\n",
    "    progeny_genotypes = [chromosomes_to_string(chromosome_list) for chromosome_list in possible_progeny]\n",
    "    return progeny_genotypes"
   ]
  },
  {
   "cell_type": "code",
   "execution_count": 58,
   "metadata": {},
   "outputs": [
    {
     "data": {
      "text/plain": [
       "'+/+ ; UAS<stop>Kir2.1/UAS<stop>Kir2.1 ; VT40556-Gal4, fru-FLP/VT40556-Gal4, fru-FLP'"
      ]
     },
     "execution_count": 58,
     "metadata": {},
     "output_type": "execute_result"
    }
   ],
   "source": [
    "# set goal genotype, and fix notation\n",
    "goal_genotype = '+/+ ; UAS<stop>Kir2.1/UAS<stop>Kir2.1 ; VT40556-Gal4, fru-FLP/VT40556-Gal4, fru-FLP'\n",
    "goal_genotype = fix_genotype_notation(goal_genotype)\n",
    "goal_genotype"
   ]
  },
  {
   "cell_type": "code",
   "execution_count": 59,
   "metadata": {},
   "outputs": [
    {
     "data": {
      "text/html": [
       "<div>\n",
       "<style scoped>\n",
       "    .dataframe tbody tr th:only-of-type {\n",
       "        vertical-align: middle;\n",
       "    }\n",
       "\n",
       "    .dataframe tbody tr th {\n",
       "        vertical-align: top;\n",
       "    }\n",
       "\n",
       "    .dataframe thead th {\n",
       "        text-align: right;\n",
       "    }\n",
       "</style>\n",
       "<table border=\"1\" class=\"dataframe\">\n",
       "  <thead>\n",
       "    <tr style=\"text-align: right;\">\n",
       "      <th></th>\n",
       "      <th>ID</th>\n",
       "      <th>description</th>\n",
       "      <th>genotype</th>\n",
       "      <th>split_genotype</th>\n",
       "    </tr>\n",
       "  </thead>\n",
       "  <tbody>\n",
       "    <tr>\n",
       "      <th>0</th>\n",
       "      <td>B#67686</td>\n",
       "      <td>UAS &gt; stop &gt; Kir2.1 on chr2</td>\n",
       "      <td>w[*]/w[*] ; UAS&lt;stop&gt;Kir2.1/CyO ; +/+</td>\n",
       "      <td>[[w[*], w[*]], [UAS&lt;stop&gt;Kir2.1, CyO], [+, +]]</td>\n",
       "    </tr>\n",
       "    <tr>\n",
       "      <th>1</th>\n",
       "      <td>S#272</td>\n",
       "      <td>Chrimson pIP10 from Philipsborn 2011, VT40556-...</td>\n",
       "      <td>+/+ ; UAS&lt;stop&gt;Chrimson,mVenus/CyO ; VT40556-G...</td>\n",
       "      <td>[[+, +], [UAS&lt;stop&gt;Chrimson,mVenus, CyO], [VT4...</td>\n",
       "    </tr>\n",
       "    <tr>\n",
       "      <th>2</th>\n",
       "      <td>balancers</td>\n",
       "      <td>NaN</td>\n",
       "      <td>+/+ ; s/CyO ; Tm2/Tm6b</td>\n",
       "      <td>[[+, +], [s, CyO], [Tm2, Tm6b]]</td>\n",
       "    </tr>\n",
       "  </tbody>\n",
       "</table>\n",
       "</div>"
      ],
      "text/plain": [
       "          ID                                        description  \\\n",
       "0    B#67686                        UAS > stop > Kir2.1 on chr2   \n",
       "1      S#272  Chrimson pIP10 from Philipsborn 2011, VT40556-...   \n",
       "2  balancers                                                NaN   \n",
       "\n",
       "                                            genotype  \\\n",
       "0              w[*]/w[*] ; UAS<stop>Kir2.1/CyO ; +/+   \n",
       "1  +/+ ; UAS<stop>Chrimson,mVenus/CyO ; VT40556-G...   \n",
       "2                             +/+ ; s/CyO ; Tm2/Tm6b   \n",
       "\n",
       "                                      split_genotype  \n",
       "0     [[w[*], w[*]], [UAS<stop>Kir2.1, CyO], [+, +]]  \n",
       "1  [[+, +], [UAS<stop>Chrimson,mVenus, CyO], [VT4...  \n",
       "2                    [[+, +], [s, CyO], [Tm2, Tm6b]]  "
      ]
     },
     "execution_count": 59,
     "metadata": {},
     "output_type": "execute_result"
    }
   ],
   "source": [
    "# load stock and balancers tables, and fix notation\n",
    "fly_stock_table = pd.read_excel('simple_crosses_table.xlsx')\n",
    "balancers_table = pd.read_excel('balancers_table.xlsx')\n",
    "for gen in fly_stock_table.genotype:\n",
    "    fly_stock_table.loc[fly_stock_table.genotype == gen,'genotype'] = fix_genotype_notation(gen)\n",
    "fly_stock_table['split_genotype'] = [str_to_chromosomes(genotype) for genotype in fly_stock_table.genotype]\n",
    "fly_stock_table"
   ]
  },
  {
   "cell_type": "code",
   "execution_count": 52,
   "metadata": {},
   "outputs": [
    {
     "name": "stdout",
     "output_type": "stream",
     "text": [
      "[[['w[*]', 'w[*]']], [['CyO', 'UAS<stop>Kir2.1'], ['UAS<stop>Kir2.1', 'UAS<stop>Kir2.1']], [['+', '+']]]\n"
     ]
    }
   ],
   "source": [
    "\n",
    "fly1 = fly_stock_table.genotype[0]\n",
    "fly2 = fly_stock_table.genotype[0]\n",
    "fly1=str_to_chromosomes(fly1)\n",
    "fly2=str_to_chromosomes(fly2)\n",
    "        \n",
    "progeny_chromosome_pool = get_unique_progeny_chromosome_pool(fly1, fly2)\n",
    "progeny_chromosome_pool = clean_lethals_from_pool(progeny_chromosome_pool, balancers_table)\n",
    "\n",
    "print(progeny_chromosome_pool)\n"
   ]
  },
  {
   "cell_type": "code",
   "execution_count": 66,
   "metadata": {},
   "outputs": [
    {
     "name": "stdout",
     "output_type": "stream",
     "text": [
      "fly 1:\n",
      " w[*]/w[*] ; UAS<stop>Kir2.1/CyO ; +/+\n",
      "fly 2:\n",
      " w[*]/w[*] ; UAS<stop>Kir2.1/CyO ; +/+\n",
      "progeny:\n",
      "['w[*]/w[*] ; CyO/UAS<stop>Kir2.1 ; +/+', 'w[*]/w[*] ; UAS<stop>Kir2.1/UAS<stop>Kir2.1 ; +/+']\n"
     ]
    }
   ],
   "source": [
    "# for fly1, fly2 in itertools.product(fly_stock_table.genotype,fly_stock_table.genotype):\n",
    "\n",
    "fly1 = fly_stock_table.genotype[0]\n",
    "fly2 = fly_stock_table.genotype[0]\n",
    "\n",
    "print('fly 1:\\n',fly1)\n",
    "print('fly 2:\\n',fly2)\n",
    "\n",
    "print('progeny:')\n",
    "progeny_genotypes = get_progeny(fly1=fly1,fly2=fly2,balancers_table=balancers_table)\n",
    "print(progeny_genotypes)\n",
    "\n",
    "fly1_chromosomes = str_to_chromosomes(fly1)\n",
    "fly2_chromosomes = str_to_chromosomes(fly2)\n",
    "\n",
    "found_balancers = [z for z in set([x for chromosomes in [fly1_chromosomes,fly2_chromosomes] for chr in chromosomes for x in chr]) if z in balancers_table.label.tolist()]\n",
    "print('found balancers:\\n',found_balancers)"
   ]
  },
  {
   "cell_type": "code",
   "execution_count": 6,
   "metadata": {},
   "outputs": [
    {
     "data": {
      "text/plain": [
       "[{('w[*]',)},\n",
       " {('CyO',), ('UAS<stop>Kir2.1',), ('UAS<stop>Kir2.1', 'CyO')},\n",
       " {('+',)}]"
      ]
     },
     "execution_count": 6,
     "metadata": {},
     "output_type": "execute_result"
    }
   ],
   "source": [
    "fly1 = str_to_chromosomes(fly_stock_table.genotype[0])\n",
    "fly2 = str_to_chromosomes(fly_stock_table.genotype[0])\n",
    "[set([tuple(set(x)) for x in itertools.product(fly1[ichr],fly2[ichr])]) for ichr in range(3)]"
   ]
  },
  {
   "cell_type": "code",
   "execution_count": 7,
   "metadata": {},
   "outputs": [
    {
     "data": {
      "text/plain": [
       "{('CyO',), ('UAS<stop>Kir2.1',), ('UAS<stop>Kir2.1', 'CyO')}"
      ]
     },
     "execution_count": 7,
     "metadata": {},
     "output_type": "execute_result"
    }
   ],
   "source": [
    "ichr = 1\n",
    "set([tuple([y for y in set(x)]) for x in itertools.product(fly1[ichr],fly2[ichr])])"
   ]
  },
  {
   "cell_type": "code",
   "execution_count": 8,
   "metadata": {},
   "outputs": [
    {
     "name": "stdout",
     "output_type": "stream",
     "text": [
      "[{('w[*]',)}, {('CyO',), ('UAS<stop>Kir2.1', 'CyO'), ('UAS<stop>Kir2.1',)}, {('+',)}]\n"
     ]
    },
    {
     "ename": "TypeError",
     "evalue": "'set' object is not subscriptable",
     "output_type": "error",
     "traceback": [
      "\u001b[1;31m---------------------------------------------------------------------------\u001b[0m",
      "\u001b[1;31mTypeError\u001b[0m                                 Traceback (most recent call last)",
      "Cell \u001b[1;32mIn [8], line 3\u001b[0m\n\u001b[0;32m      1\u001b[0m possible_chromosomes \u001b[39m=\u001b[39m [\u001b[39mset\u001b[39m([\u001b[39mtuple\u001b[39m(\u001b[39mset\u001b[39m(x)) \u001b[39mfor\u001b[39;00m x \u001b[39min\u001b[39;00m itertools\u001b[39m.\u001b[39mproduct(fly1[ichr],fly2[ichr])]) \u001b[39mfor\u001b[39;00m ichr \u001b[39min\u001b[39;00m \u001b[39mrange\u001b[39m(\u001b[39m3\u001b[39m)]\n\u001b[0;32m      2\u001b[0m \u001b[39mprint\u001b[39m(possible_chromosomes)\n\u001b[1;32m----> 3\u001b[0m possible_chromosomes \u001b[39m=\u001b[39m [(chromosome[\u001b[39m0\u001b[39m],chromosome[\u001b[39m0\u001b[39m]) \u001b[39mif\u001b[39;00m \u001b[39mlen\u001b[39m(chromosome)\u001b[39m==\u001b[39m\u001b[39m1\u001b[39m \u001b[39melse\u001b[39;00m \u001b[39mtuple\u001b[39m(chromosome) \u001b[39mfor\u001b[39;00m chromosome \u001b[39min\u001b[39;00m possible_chromosomes]\n\u001b[0;32m      4\u001b[0m \u001b[39mprint\u001b[39m(possible_chromosomes)\n\u001b[0;32m      5\u001b[0m possible_chromosomes \u001b[39m=\u001b[39m [[alleles \u001b[39mfor\u001b[39;00m alleles \u001b[39min\u001b[39;00m chromosome_list \u001b[39mif\u001b[39;00m \u001b[39mnot\u001b[39;00m ((alleles[\u001b[39m0\u001b[39m]\u001b[39m==\u001b[39malleles[\u001b[39m1\u001b[39m]) \u001b[39mand\u001b[39;00m (alleles[\u001b[39m0\u001b[39m] \u001b[39min\u001b[39;00m balancers_table\u001b[39m.\u001b[39mlabel\u001b[39m.\u001b[39mtolist()))] \u001b[39mfor\u001b[39;00m chromosome_list \u001b[39min\u001b[39;00m possible_chromosomes]\n",
      "Cell \u001b[1;32mIn [8], line 3\u001b[0m, in \u001b[0;36m<listcomp>\u001b[1;34m(.0)\u001b[0m\n\u001b[0;32m      1\u001b[0m possible_chromosomes \u001b[39m=\u001b[39m [\u001b[39mset\u001b[39m([\u001b[39mtuple\u001b[39m(\u001b[39mset\u001b[39m(x)) \u001b[39mfor\u001b[39;00m x \u001b[39min\u001b[39;00m itertools\u001b[39m.\u001b[39mproduct(fly1[ichr],fly2[ichr])]) \u001b[39mfor\u001b[39;00m ichr \u001b[39min\u001b[39;00m \u001b[39mrange\u001b[39m(\u001b[39m3\u001b[39m)]\n\u001b[0;32m      2\u001b[0m \u001b[39mprint\u001b[39m(possible_chromosomes)\n\u001b[1;32m----> 3\u001b[0m possible_chromosomes \u001b[39m=\u001b[39m [(chromosome[\u001b[39m0\u001b[39;49m],chromosome[\u001b[39m0\u001b[39m]) \u001b[39mif\u001b[39;00m \u001b[39mlen\u001b[39m(chromosome)\u001b[39m==\u001b[39m\u001b[39m1\u001b[39m \u001b[39melse\u001b[39;00m \u001b[39mtuple\u001b[39m(chromosome) \u001b[39mfor\u001b[39;00m chromosome \u001b[39min\u001b[39;00m possible_chromosomes]\n\u001b[0;32m      4\u001b[0m \u001b[39mprint\u001b[39m(possible_chromosomes)\n\u001b[0;32m      5\u001b[0m possible_chromosomes \u001b[39m=\u001b[39m [[alleles \u001b[39mfor\u001b[39;00m alleles \u001b[39min\u001b[39;00m chromosome_list \u001b[39mif\u001b[39;00m \u001b[39mnot\u001b[39;00m ((alleles[\u001b[39m0\u001b[39m]\u001b[39m==\u001b[39malleles[\u001b[39m1\u001b[39m]) \u001b[39mand\u001b[39;00m (alleles[\u001b[39m0\u001b[39m] \u001b[39min\u001b[39;00m balancers_table\u001b[39m.\u001b[39mlabel\u001b[39m.\u001b[39mtolist()))] \u001b[39mfor\u001b[39;00m chromosome_list \u001b[39min\u001b[39;00m possible_chromosomes]\n",
      "\u001b[1;31mTypeError\u001b[0m: 'set' object is not subscriptable"
     ]
    }
   ],
   "source": [
    "possible_chromosomes = [set([tuple(set(x)) for x in itertools.product(fly1[ichr],fly2[ichr])]) for ichr in range(3)]\n",
    "print(possible_chromosomes)\n",
    "possible_chromosomes = [(chromosome[0],chromosome[0]) if len(chromosome)==1 else tuple(chromosome) for chromosome in possible_chromosomes]\n",
    "print(possible_chromosomes)\n",
    "possible_chromosomes = [[alleles for alleles in chromosome_list if not ((alleles[0]==alleles[1]) and (alleles[0] in balancers_table.label.tolist()))] for chromosome_list in possible_chromosomes]\n",
    "print(possible_chromosomes)\n",
    "possible_progeny = [z for z in itertools.product(*possible_chromosomes)]\n",
    "print(possible_progeny)\n",
    "progeny_genotypes = [chromosomes_to_string(chromosome_list) for chromosome_list in possible_progeny]\n",
    "    "
   ]
  },
  {
   "cell_type": "code",
   "execution_count": 36,
   "metadata": {},
   "outputs": [
    {
     "name": "stdout",
     "output_type": "stream",
     "text": [
      "[{'w[*]'}, {'UAS<stop>Kir2.1'}, {'+'}]\n"
     ]
    },
    {
     "ename": "TypeError",
     "evalue": "unhashable type: 'list'",
     "output_type": "error",
     "traceback": [
      "\u001b[1;31m---------------------------------------------------------------------------\u001b[0m",
      "\u001b[1;31mTypeError\u001b[0m                                 Traceback (most recent call last)",
      "Cell \u001b[1;32mIn[36], line 5\u001b[0m\n\u001b[0;32m      3\u001b[0m     prog_chrms_sets \u001b[39m=\u001b[39m [\u001b[39mset\u001b[39m(x) \u001b[39mfor\u001b[39;00m x \u001b[39min\u001b[39;00m split_into_chromosomes(prog)]\n\u001b[0;32m      4\u001b[0m     \u001b[39mprint\u001b[39m(prog_chrms_sets)\n\u001b[1;32m----> 5\u001b[0m     progeny_sets\u001b[39m.\u001b[39;49madd(prog_chrms_sets)\n\u001b[0;32m      6\u001b[0m \u001b[39mprint\u001b[39m(progeny_sets)\n\u001b[0;32m      7\u001b[0m \u001b[39m# progeny_sets = set(progeny_sets)\u001b[39;00m\n\u001b[0;32m      8\u001b[0m \u001b[39m# progeny_sets\u001b[39;00m\n",
      "\u001b[1;31mTypeError\u001b[0m: unhashable type: 'list'"
     ]
    }
   ],
   "source": [
    "progeny_sets = set()\n",
    "for prog in progeny_genotypes:\n",
    "    prog_chrms_sets = [set(x) for x in str_to_chromosomes(prog)]\n",
    "    print(prog_chrms_sets)\n",
    "    progeny_sets.add(prog_chrms_sets)\n",
    "print(progeny_sets)\n",
    "# progeny_sets = set(progeny_sets)\n",
    "# progeny_sets\n"
   ]
  },
  {
   "cell_type": "code",
   "execution_count": 6,
   "metadata": {},
   "outputs": [
    {
     "data": {
      "text/plain": [
       "{'+', 'CyO', 'UAS<stop>Kir2.1', 'w[*]'}"
      ]
     },
     "execution_count": 6,
     "metadata": {},
     "output_type": "execute_result"
    }
   ],
   "source": [
    "set([x for chr in fly1_chromosomes for x in chr])"
   ]
  },
  {
   "cell_type": "code",
   "execution_count": 7,
   "metadata": {},
   "outputs": [
    {
     "data": {
      "text/plain": [
       "['Tm2', 'Tm6b', 'CyO', 's']"
      ]
     },
     "execution_count": 7,
     "metadata": {},
     "output_type": "execute_result"
    }
   ],
   "source": [
    "balancers_table.label.tolist()"
   ]
  },
  {
   "cell_type": "code",
   "execution_count": 8,
   "metadata": {},
   "outputs": [],
   "source": [
    "for fly1, fly2 in itertools.product(fly_stock_table.genotype,fly_stock_table.genotype):\n",
    "    progeny_genotypes = get_progeny(fly1=str_to_chromosomes(fly1),fly2=str_to_chromosomes(fly2),balancers_table=balancers_table)\n",
    "\n",
    "    \n",
    "\n",
    "\n",
    "    if goal_genotype not in progeny_genotypes:\n",
    "        second_step_stock = [fly1, fly2] + progeny_genotypes\n",
    "        # for fly3, fly4 in itertools.product(second_step_stock,second_step_stock):\n",
    "        #     second_progeny_genotypes = get_progeny(fly1=str_to_chromosomes(fly3),fly2=str_to_chromosomes(fly4),balancers_table=balancers_table)\n",
    "    #         if goal_genotype in second_progeny_genotypes:\n",
    "    #             print('viable cross plan')\n",
    "    #             print(fly1,' x ', fly2)\n",
    "    #             print(fly3,' x ', fly4)\n",
    "    # else:\n",
    "    #     print('viable cross plan')\n",
    "    #     print(fly1,' x ', fly2)\n"
   ]
  },
  {
   "cell_type": "code",
   "execution_count": 127,
   "metadata": {},
   "outputs": [],
   "source": []
  },
  {
   "attachments": {},
   "cell_type": "markdown",
   "metadata": {},
   "source": [
    "# Working on the visualization"
   ]
  },
  {
   "cell_type": "code",
   "execution_count": 9,
   "metadata": {},
   "outputs": [
    {
     "data": {
      "image/png": "[encoded data removed]",
      "text/plain": [
       "<Figure size 2000x500 with 1 Axes>"
      ]
     },
     "metadata": {},
     "output_type": "display_data"
    }
   ],
   "source": [
    "fig, ax = plt.subplots(figsize=[20,5])\n",
    "\n",
    "# create graph\n",
    "G = nx.DiGraph()\n",
    "for gen,xscale_fly in zip(fly_stock_table.genotype,[3,1.8,4]):\n",
    "    G.add_node(gen, xscale = xscale_fly)\n",
    "for gen,xscale_fly in zip(progeny_genotypes,[3]*len(progeny_genotypes)):\n",
    "    G.add_node(gen, xscale = xscale_fly)\n",
    "for parent, progeny in itertools.product(fly_stock_table.genotype[[0,1]],progeny_genotypes):\n",
    "    G.add_edge(parent,progeny)\n",
    "\n",
    "# get positions for graph \n",
    "pos = graphviz_layout(G, prog=\"dot\")\n",
    "# plot graph\n",
    "nx.draw_networkx_edges(G, pos=pos, ax=ax, min_source_margin=20, min_target_margin=20)\n",
    "\n",
    "# scale of ax to draw rectangles and labels over\n",
    "xscale = (ax.get_xlim()[1] - ax.get_xlim()[0])\n",
    "yscale = (ax.get_ylim()[1] - ax.get_ylim()[0])\n",
    "\n",
    "# plot rectangles and labels\n",
    "for n in G.nodes:\n",
    "    label_size_x = xscale/G.nodes[n]['xscale']\n",
    "    label_size_y = yscale/20\n",
    "    fancybox = FancyBboxPatch(np.asarray(pos[n]) - np.asarray((label_size_x/2,label_size_y/2)), label_size_x, label_size_y, color='lightblue', zorder=-5, boxstyle=BoxStyle(\"Round\", pad=2))\n",
    "    ax.add_patch(fancybox)\n",
    "    ax.text(*pos[n],n,ha='center',va='center',fontsize=9)\n",
    "plt.xlim([ax.get_xlim()[0]-0.5*xscale,ax.get_xlim()[1]+0.5*xscale])\n",
    "plt.show()"
   ]
  },
  {
   "cell_type": "code",
   "execution_count": null,
   "metadata": {},
   "outputs": [],
   "source": []
  }
 ],
 "metadata": {
  "kernelspec": {
   "display_name": "crosser",
   "language": "python",
   "name": "python3"
  },
  "language_info": {
   "codemirror_mode": {
    "name": "ipython",
    "version": 3
   },
   "file_extension": ".py",
   "mimetype": "text/x-python",
   "name": "python",
   "nbconvert_exporter": "python",
   "pygments_lexer": "ipython3",
   "version": "3.10.8"
  },
  "orig_nbformat": 4,
  "vscode": {
   "interpreter": {
    "hash": "89de26e0c9da87566e55563e4aa54b823031136e1854546d40578093471c93ff"
   }
  }
 },
 "nbformat": 4,
 "nbformat_minor": 2
}
