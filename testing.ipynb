{
 "cells": [
  {
   "cell_type": "code",
   "execution_count": 1,
   "metadata": {},
   "outputs": [],
   "source": [
    "import pandas as pd\n",
    "import itertools"
   ]
  },
  {
   "cell_type": "code",
   "execution_count": 2,
   "metadata": {},
   "outputs": [],
   "source": [
    "fly_stock_table = pd.read_excel('simple_crosses_table.xlsx')"
   ]
  },
  {
   "cell_type": "code",
   "execution_count": 3,
   "metadata": {},
   "outputs": [],
   "source": [
    "balancers_table = pd.read_excel('balancers_table.xlsx')"
   ]
  },
  {
   "cell_type": "code",
   "execution_count": 4,
   "metadata": {},
   "outputs": [],
   "source": [
    "def split_into_chromosomes(genotype):\n",
    "    chr_list = genotype.split(';')\n",
    "    chr_list = [chr.strip() for chr in chr_list]\n",
    "    if len(chr_list) < 3:\n",
    "        chr_list = ['+/+'] + chr_list\n",
    "    chr_list = ['+/+' if chromosome == '' else chromosome for chromosome in chr_list]\n",
    "    chr_list = [chromosome.split('/') for chromosome in chr_list]\n",
    "    chr_list = [chromosome*2 if len(chromosome)==1 else chromosome for chromosome in chr_list]\n",
    "    return chr_list"
   ]
  },
  {
   "cell_type": "code",
   "execution_count": 5,
   "metadata": {},
   "outputs": [
    {
     "data": {
      "text/html": [
       "<div>\n",
       "<style scoped>\n",
       "    .dataframe tbody tr th:only-of-type {\n",
       "        vertical-align: middle;\n",
       "    }\n",
       "\n",
       "    .dataframe tbody tr th {\n",
       "        vertical-align: top;\n",
       "    }\n",
       "\n",
       "    .dataframe thead th {\n",
       "        text-align: right;\n",
       "    }\n",
       "</style>\n",
       "<table border=\"1\" class=\"dataframe\">\n",
       "  <thead>\n",
       "    <tr style=\"text-align: right;\">\n",
       "      <th></th>\n",
       "      <th>ID</th>\n",
       "      <th>description</th>\n",
       "      <th>genotype</th>\n",
       "      <th>split_genotype</th>\n",
       "    </tr>\n",
       "  </thead>\n",
       "  <tbody>\n",
       "    <tr>\n",
       "      <th>0</th>\n",
       "      <td>B#67686</td>\n",
       "      <td>UAS &gt; stop &gt; Kir2.1 on chr2</td>\n",
       "      <td>w[*]; UAS&lt;stop&gt;Kir2.1/CyO ;</td>\n",
       "      <td>[[w[*], w[*]], [UAS&lt;stop&gt;Kir2.1, CyO], [+, +]]</td>\n",
       "    </tr>\n",
       "    <tr>\n",
       "      <th>1</th>\n",
       "      <td>S#272</td>\n",
       "      <td>Chrimson pIP10 from Philipsborn 2011, VT40556-...</td>\n",
       "      <td>;UAS&lt;stop&gt;Chrimson,mVenus/CyO; VT40556-Gal4, f...</td>\n",
       "      <td>[[+, +], [UAS&lt;stop&gt;Chrimson,mVenus, CyO], [VT4...</td>\n",
       "    </tr>\n",
       "    <tr>\n",
       "      <th>2</th>\n",
       "      <td>balancers</td>\n",
       "      <td>NaN</td>\n",
       "      <td>; s/CyO ; Tm2/Tm6b</td>\n",
       "      <td>[[+, +], [s, CyO], [Tm2, Tm6b]]</td>\n",
       "    </tr>\n",
       "  </tbody>\n",
       "</table>\n",
       "</div>"
      ],
      "text/plain": [
       "          ID                                        description  \\\n",
       "0    B#67686                        UAS > stop > Kir2.1 on chr2   \n",
       "1      S#272  Chrimson pIP10 from Philipsborn 2011, VT40556-...   \n",
       "2  balancers                                                NaN   \n",
       "\n",
       "                                            genotype  \\\n",
       "0                        w[*]; UAS<stop>Kir2.1/CyO ;   \n",
       "1  ;UAS<stop>Chrimson,mVenus/CyO; VT40556-Gal4, f...   \n",
       "2                                 ; s/CyO ; Tm2/Tm6b   \n",
       "\n",
       "                                      split_genotype  \n",
       "0     [[w[*], w[*]], [UAS<stop>Kir2.1, CyO], [+, +]]  \n",
       "1  [[+, +], [UAS<stop>Chrimson,mVenus, CyO], [VT4...  \n",
       "2                    [[+, +], [s, CyO], [Tm2, Tm6b]]  "
      ]
     },
     "execution_count": 5,
     "metadata": {},
     "output_type": "execute_result"
    }
   ],
   "source": [
    "fly_stock_table['split_genotype'] = [split_into_chromosomes(genotype) for genotype in fly_stock_table.genotype]\n",
    "fly_stock_table"
   ]
  },
  {
   "cell_type": "code",
   "execution_count": 15,
   "metadata": {},
   "outputs": [
    {
     "data": {
      "text/plain": [
       "[(('+', '+'), ('CyO', 's'), ('VT40556-Gal4, fru-FLP', 'Tm2')),\n",
       " (('+', '+'), ('CyO', 's'), ('VT40556-Gal4, fru-FLP', 'Tm6b')),\n",
       " (('+', '+'), ('CyO', 's'), ('Tm6b', 'Tm2')),\n",
       " (('+', '+'),\n",
       "  ('UAS<stop>Chrimson,mVenus', 'CyO'),\n",
       "  ('VT40556-Gal4, fru-FLP', 'Tm2')),\n",
       " (('+', '+'),\n",
       "  ('UAS<stop>Chrimson,mVenus', 'CyO'),\n",
       "  ('VT40556-Gal4, fru-FLP', 'Tm6b')),\n",
       " (('+', '+'), ('UAS<stop>Chrimson,mVenus', 'CyO'), ('Tm6b', 'Tm2')),\n",
       " (('+', '+'),\n",
       "  ('UAS<stop>Chrimson,mVenus', 's'),\n",
       "  ('VT40556-Gal4, fru-FLP', 'Tm2')),\n",
       " (('+', '+'),\n",
       "  ('UAS<stop>Chrimson,mVenus', 's'),\n",
       "  ('VT40556-Gal4, fru-FLP', 'Tm6b')),\n",
       " (('+', '+'), ('UAS<stop>Chrimson,mVenus', 's'), ('Tm6b', 'Tm2'))]"
      ]
     },
     "execution_count": 15,
     "metadata": {},
     "output_type": "execute_result"
    }
   ],
   "source": [
    "# def get_progeny(fly1,fly2,balancer_table=None):\n",
    "\n",
    "fly1 = fly_stock_table.split_genotype[1]\n",
    "fly2 = fly_stock_table.split_genotype[2]\n",
    "\n",
    "possible_chromosomes = [set([x for x in itertools.product(fly1[ichr],fly2[ichr])]) for ichr in range(3)]\n",
    "possible_chromosomes = [[alleles for alleles in chromosome_list if not ((alleles[0]==alleles[1]) and (alleles[0] in balancers_table.label.tolist()))] for chromosome_list in possible_chromosomes]\n",
    "possible_progeny = [z for z in itertools.product(*possible_chromosomes)]\n",
    "possible_progeny"
   ]
  },
  {
   "cell_type": "code",
   "execution_count": null,
   "metadata": {},
   "outputs": [],
   "source": []
  }
 ],
 "metadata": {
  "kernelspec": {
   "display_name": "Python 3.7.7 ('base')",
   "language": "python",
   "name": "python3"
  },
  "language_info": {
   "codemirror_mode": {
    "name": "ipython",
    "version": 3
   },
   "file_extension": ".py",
   "mimetype": "text/x-python",
   "name": "python",
   "nbconvert_exporter": "python",
   "pygments_lexer": "ipython3",
   "version": "3.7.15"
  },
  "orig_nbformat": 4,
  "vscode": {
   "interpreter": {
    "hash": "1727bd6ab845b78ffdc2ad123d584580cdd528cd195af50174d0dfcc3aa73d5f"
   }
  }
 },
 "nbformat": 4,
 "nbformat_minor": 2
}
